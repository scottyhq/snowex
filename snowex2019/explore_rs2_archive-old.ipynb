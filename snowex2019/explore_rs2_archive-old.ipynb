{
 "cells": [
  {
   "cell_type": "markdown",
   "metadata": {},
   "source": [
    "# Examine RadarSAT2 Archive for a particular location\n",
    "\n",
    "# (GOOD!) Now that MDA is part of Maxar, it seems new and better search finally exists!\n",
    "https://gsiportal.mdacorporation.com/gc_cp/#/map \n",
    "\n",
    "###### (BAD) full catalog search as of 10/2018:\n",
    "https://www.eodms-sgdot.nrcan-rncan.gc.ca/index_en.jsp \n",
    "\n",
    "\n",
    "###### (BAD) old catalog search allows downloading csvs:\n",
    "https://neodf.nrcan.gc.ca/neodf_cat3/index.php?lang=en#\n",
    "\n"
   ]
  },
  {
   "cell_type": "code",
   "execution_count": 1,
   "metadata": {},
   "outputs": [],
   "source": [
    "import pandas as pd\n",
    "import numpy as np\n",
    "import matplotlib.pyplot as plt\n",
    "from matplotlib.dates import YearLocator, MonthLocator, DateFormatter"
   ]
  },
  {
   "cell_type": "code",
   "execution_count": 2,
   "metadata": {},
   "outputs": [],
   "source": [
    "%matplotlib inline\n",
    "#%qtconsole"
   ]
  },
  {
   "cell_type": "code",
   "execution_count": 3,
   "metadata": {},
   "outputs": [
    {
     "data": {
      "text/plain": [
       "'/Users/scott/Documents/GitHub/snowex/snowex2019'"
      ]
     },
     "execution_count": 3,
     "metadata": {},
     "output_type": "execute_result"
    }
   ],
   "source": [
    "pwd"
   ]
  },
  {
   "cell_type": "markdown",
   "metadata": {},
   "source": [
    "# Conus Digital Globe tasking"
   ]
  },
  {
   "cell_type": "code",
   "execution_count": 5,
   "metadata": {},
   "outputs": [
    {
     "data": {
      "text/html": [
       "<div>\n",
       "<style scoped>\n",
       "    .dataframe tbody tr th:only-of-type {\n",
       "        vertical-align: middle;\n",
       "    }\n",
       "\n",
       "    .dataframe tbody tr th {\n",
       "        vertical-align: top;\n",
       "    }\n",
       "\n",
       "    .dataframe thead th {\n",
       "        text-align: right;\n",
       "    }\n",
       "</style>\n",
       "<table border=\"1\" class=\"dataframe\">\n",
       "  <thead>\n",
       "    <tr style=\"text-align: right;\">\n",
       "      <th></th>\n",
       "      <th>Satellite</th>\n",
       "      <th>Acq Start Date</th>\n",
       "      <th>Beam</th>\n",
       "      <th>Polarization</th>\n",
       "      <th>Type</th>\n",
       "      <th>Image ID</th>\n",
       "    </tr>\n",
       "  </thead>\n",
       "  <tbody>\n",
       "    <tr>\n",
       "      <th>0</th>\n",
       "      <td>RADARSAT-2</td>\n",
       "      <td>2018-07-05 01:06:43</td>\n",
       "      <td>Extra Fine W3</td>\n",
       "      <td>HH</td>\n",
       "      <td>raw</td>\n",
       "      <td>649222</td>\n",
       "    </tr>\n",
       "    <tr>\n",
       "      <th>1</th>\n",
       "      <td>RADARSAT-2</td>\n",
       "      <td>2018-06-28 01:10:50</td>\n",
       "      <td>Extra Fine W3</td>\n",
       "      <td>HH</td>\n",
       "      <td>raw</td>\n",
       "      <td>647637</td>\n",
       "    </tr>\n",
       "    <tr>\n",
       "      <th>2</th>\n",
       "      <td>RADARSAT-2</td>\n",
       "      <td>2018-03-31 01:06:23</td>\n",
       "      <td>Extra Fine W3</td>\n",
       "      <td>HH</td>\n",
       "      <td>raw</td>\n",
       "      <td>627133</td>\n",
       "    </tr>\n",
       "    <tr>\n",
       "      <th>3</th>\n",
       "      <td>RADARSAT-2</td>\n",
       "      <td>2018-01-04 01:15:12</td>\n",
       "      <td>Extra Fine W3</td>\n",
       "      <td>HH</td>\n",
       "      <td>raw</td>\n",
       "      <td>609248</td>\n",
       "    </tr>\n",
       "    <tr>\n",
       "      <th>4</th>\n",
       "      <td>RADARSAT-2</td>\n",
       "      <td>2018-03-28 13:08:18</td>\n",
       "      <td>Extra Fine W3</td>\n",
       "      <td>HH</td>\n",
       "      <td>raw</td>\n",
       "      <td>626658</td>\n",
       "    </tr>\n",
       "  </tbody>\n",
       "</table>\n",
       "</div>"
      ],
      "text/plain": [
       "    Satellite       Acq Start Date           Beam Polarization Type  Image ID\n",
       "0  RADARSAT-2  2018-07-05 01:06:43  Extra Fine W3           HH  raw    649222\n",
       "1  RADARSAT-2  2018-06-28 01:10:50  Extra Fine W3           HH  raw    647637\n",
       "2  RADARSAT-2  2018-03-31 01:06:23  Extra Fine W3           HH  raw    627133\n",
       "3  RADARSAT-2  2018-01-04 01:15:12  Extra Fine W3           HH  raw    609248\n",
       "4  RADARSAT-2  2018-03-28 13:08:18  Extra Fine W3           HH  raw    626658"
      ]
     },
     "execution_count": 5,
     "metadata": {},
     "output_type": "execute_result"
    }
   ],
   "source": [
    "df = pd.read_csv('./co-nm/Name_GM2ER1_092aa-RS2.csv')\n",
    "df.head()"
   ]
  },
  {
   "cell_type": "code",
   "execution_count": 6,
   "metadata": {},
   "outputs": [
    {
     "name": "stdout",
     "output_type": "stream",
     "text": [
      "Total acquisitions: 79\n",
      "Sensor Modes: ['Extra Fine W3' 'ScanSAR Wide A (W1 W2 W3 S7)' 'Wide Multi-Look Fine 23'\n",
      " 'ScanSAR Narrow B (W2 S5 S6)' 'ScanSAR Narrow A (W1 W2)']\n",
      "Polarizations: ['HH' 'HH HV' 'VV VH']\n"
     ]
    }
   ],
   "source": [
    "print('Total acquisitions:', len(df))\n",
    "print('Sensor Modes:', df.Beam.unique())\n",
    "print('Polarizations:', df.Polarization.unique())\n",
    "#print('Ascending and Descending?', df.Passdirect.unique())\n",
    "#print('Scene Center Incidence', df.CenterScen.unique())\n",
    "#df.head()"
   ]
  },
  {
   "cell_type": "code",
   "execution_count": 7,
   "metadata": {},
   "outputs": [
    {
     "data": {
      "text/plain": [
       "Beam\n",
       "Extra Fine W3                   60\n",
       "ScanSAR Narrow A (W1 W2)         2\n",
       "ScanSAR Narrow B (W2 S5 S6)      7\n",
       "ScanSAR Wide A (W1 W2 W3 S7)     9\n",
       "Wide Multi-Look Fine 23          1\n",
       "Name: Satellite, dtype: int64"
      ]
     },
     "execution_count": 7,
     "metadata": {},
     "output_type": "execute_result"
    }
   ],
   "source": [
    "# Simple groupby beam mode counts\n",
    "df.groupby('Beam')['Satellite'].count()"
   ]
  },
  {
   "cell_type": "code",
   "execution_count": 8,
   "metadata": {},
   "outputs": [],
   "source": [
    "# NOTE: could make timeline plot showing just how ridiculous this acquisition plan is!\n",
    "#http://stackoverflow.com/questions/21654635/scatter-plots-in-pandas-pyplot-how-to-plot-by-category\n",
    "#http://stackoverflow.com/questions/38088652/pandas-convert-categories-to-numbers\n",
    "DF = pd.DataFrame(dict(beam=df['Beam'], date=df['Acq Start Date']))\n",
    "DF['code'] = DF.beam.astype('category').cat.codes\n",
    "DF['time'] = pd.to_datetime(DF.date)\n",
    "#DF.time.dtype\n",
    "#DF.time[0]\n",
    "#DF.code.unique()\n",
    "DF.sort_values('code', inplace=True)"
   ]
  },
  {
   "cell_type": "code",
   "execution_count": 9,
   "metadata": {},
   "outputs": [
    {
     "data": {
      "text/html": [
       "<div>\n",
       "<style scoped>\n",
       "    .dataframe tbody tr th:only-of-type {\n",
       "        vertical-align: middle;\n",
       "    }\n",
       "\n",
       "    .dataframe tbody tr th {\n",
       "        vertical-align: top;\n",
       "    }\n",
       "\n",
       "    .dataframe thead th {\n",
       "        text-align: right;\n",
       "    }\n",
       "</style>\n",
       "<table border=\"1\" class=\"dataframe\">\n",
       "  <thead>\n",
       "    <tr style=\"text-align: right;\">\n",
       "      <th></th>\n",
       "      <th>beam</th>\n",
       "      <th>date</th>\n",
       "      <th>code</th>\n",
       "      <th>time</th>\n",
       "    </tr>\n",
       "  </thead>\n",
       "  <tbody>\n",
       "    <tr>\n",
       "      <th>0</th>\n",
       "      <td>Extra Fine W3</td>\n",
       "      <td>2018-07-05 01:06:43</td>\n",
       "      <td>0</td>\n",
       "      <td>2018-07-05 01:06:43</td>\n",
       "    </tr>\n",
       "    <tr>\n",
       "      <th>72</th>\n",
       "      <td>Extra Fine W3</td>\n",
       "      <td>2018-05-04 01:15:05</td>\n",
       "      <td>0</td>\n",
       "      <td>2018-05-04 01:15:05</td>\n",
       "    </tr>\n",
       "    <tr>\n",
       "      <th>35</th>\n",
       "      <td>Extra Fine W3</td>\n",
       "      <td>2017-05-09 01:15:30</td>\n",
       "      <td>0</td>\n",
       "      <td>2017-05-09 01:15:30</td>\n",
       "    </tr>\n",
       "    <tr>\n",
       "      <th>36</th>\n",
       "      <td>Extra Fine W3</td>\n",
       "      <td>2017-01-23 01:06:51</td>\n",
       "      <td>0</td>\n",
       "      <td>2017-01-23 01:06:51</td>\n",
       "    </tr>\n",
       "    <tr>\n",
       "      <th>37</th>\n",
       "      <td>Extra Fine W3</td>\n",
       "      <td>2017-07-10 01:06:44</td>\n",
       "      <td>0</td>\n",
       "      <td>2017-07-10 01:06:44</td>\n",
       "    </tr>\n",
       "  </tbody>\n",
       "</table>\n",
       "</div>"
      ],
      "text/plain": [
       "             beam                 date  code                time\n",
       "0   Extra Fine W3  2018-07-05 01:06:43     0 2018-07-05 01:06:43\n",
       "72  Extra Fine W3  2018-05-04 01:15:05     0 2018-05-04 01:15:05\n",
       "35  Extra Fine W3  2017-05-09 01:15:30     0 2017-05-09 01:15:30\n",
       "36  Extra Fine W3  2017-01-23 01:06:51     0 2017-01-23 01:06:51\n",
       "37  Extra Fine W3  2017-07-10 01:06:44     0 2017-07-10 01:06:44"
      ]
     },
     "execution_count": 9,
     "metadata": {},
     "output_type": "execute_result"
    }
   ],
   "source": [
    "DF.head()"
   ]
  },
  {
   "cell_type": "code",
   "execution_count": 11,
   "metadata": {},
   "outputs": [
    {
     "data": {
      "text/plain": [
       "Text(0.5, 1.0, 'RS2 Observations (5 Modes)')"
      ]
     },
     "execution_count": 11,
     "metadata": {},
     "output_type": "execute_result"
    },
    {
     "data": {
      "image/png": "[encoded data removed]",
      "text/plain": [
       "<Figure size 792x612 with 1 Axes>"
      ]
     },
     "metadata": {
      "needs_background": "light"
     },
     "output_type": "display_data"
    }
   ],
   "source": [
    "nmodes = len(DF.code.unique())\n",
    "fig,ax = plt.subplots(figsize=(11,8.5))\n",
    "plt.scatter(DF.time.values, DF.code.values, c=DF.code.values, s=40)\n",
    "junk = plt.yticks(DF.code.unique(), DF.beam.unique())\n",
    "plt.ylim(-1, nmodes)\n",
    "ax.xaxis.set_minor_locator(MonthLocator())\n",
    "ax.xaxis.set_major_locator(YearLocator())\n",
    "#ax.fmt_xdata = DateFormatter('%Y-%m-%d') #for interactive plots\n",
    "fig.autofmt_xdate()\n",
    "plt.title('RS2 Observations ({} Modes)'.format(nmodes))\n",
    "#plt.savefig('rs2modes_timeline.pdf', bbox_inches='tight')"
   ]
  },
  {
   "cell_type": "markdown",
   "metadata": {},
   "source": [
    "## Note that without footprints, it's hard to tell what can be used for interferometry.\n",
    "### Can't figure out how to get scenes from same pass! But manual clicking around suggests following dates for same frame:\n",
    "Note that 3 frams cover Grand Mesa Swath...\n",
    "\n",
    "# Image ID  Mode                Orientation      Incidence\n",
    " 649222     \"Extra Fine Wide\"  Ascending     41    2018-07-05    430217\n",
    "\n",
    "Eastern Mesa:\n",
    "2018-07-05\n",
    "2018-05-18\n",
    "2018-03-31\n",
    "2017-08-27\n",
    "\n",
    "Western Mesa:\n",
    "2018-09-25\n",
    "2018-08-08\n",
    "2018-06-21\n",
    "2018-05-04\n",
    "2018-02-21\n",
    "2017-01-09\n",
    "2017-12-11\n",
    "2017-08-13\n",
    "2017-06-26\n",
    "\n",
    "\n",
    "\n",
    "\n",
    "\n"
   ]
  },
  {
   "cell_type": "code",
   "execution_count": 12,
   "metadata": {},
   "outputs": [
    {
     "data": {
      "image/png": "[encoded data removed]",
      "text/plain": [
       "<Figure size 792x288 with 1 Axes>"
      ]
     },
     "metadata": {
      "needs_background": "light"
     },
     "output_type": "display_data"
    }
   ],
   "source": [
    "# Simple plot\n",
    "beam1 = 'ScanSAR Wide A'\n",
    "beam2 = 'Extra Fine W3'\n",
    "\n",
    "# separate into Ascending and Descending\n",
    "df['time'] = pd.to_datetime(df['Acq Start Date'])\n",
    "dfA = df.query(\"Beam == @beam1\")\n",
    "dfD = df.query(\"Beam == @beam2\")\n",
    "fig,ax = plt.subplots(figsize=(11,4))\n",
    "\n",
    "plt.plot(dfA.time, np.ones(len(dfA)), 'ko', label=beam1)\n",
    "#annotate dates\n",
    "for ts in dfA.time:\n",
    "    plt.text(ts,0.8,ts.strftime('%Y-%m-%d'),rotation=90)\n",
    "\n",
    "plt.plot(dfD.time, 2*np.ones(len(dfD)), 'bo', label=beam2)\n",
    "#annotate dates\n",
    "for ts in dfD.time:\n",
    "    plt.text(ts,1.8,ts.strftime('%Y-%m-%d'),rotation=90,color='b')\n",
    "\n",
    "\n",
    "plt.yticks([1,2], ['Ascending', 'Descending'])\n",
    "plt.ylim(0,3)\n",
    "ax.xaxis.set_minor_locator(MonthLocator())\n",
    "ax.xaxis.set_major_locator(YearLocator())\n",
    "#ax.fmt_xdata = DateFormatter('%Y-%m-%d') #for interactive plots\n",
    "plt.legend()\n",
    "fig.autofmt_xdate()\n",
    "#plt.savefig('rs2_ruiz_timeline.pdf', bbox_inches='tight')"
   ]
  },
  {
   "cell_type": "code",
   "execution_count": null,
   "metadata": {},
   "outputs": [],
   "source": []
  }
 ],
 "metadata": {
  "anaconda-cloud": {},
  "kernelspec": {
   "display_name": "Python 3",
   "language": "python",
   "name": "python3"
  },
  "language_info": {
   "codemirror_mode": {
    "name": "ipython",
    "version": 3
   },
   "file_extension": ".py",
   "mimetype": "text/x-python",
   "name": "python",
   "nbconvert_exporter": "python",
   "pygments_lexer": "ipython3",
   "version": "3.7.0"
  }
 },
 "nbformat": 4,
 "nbformat_minor": 2
}
